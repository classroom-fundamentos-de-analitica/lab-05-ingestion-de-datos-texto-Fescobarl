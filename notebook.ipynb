{
 "cells": [
  {
   "cell_type": "code",
   "execution_count": 1,
   "metadata": {},
   "outputs": [],
   "source": [
    "import os\n",
    "import pandas as pd\n",
    "\n",
    "# Función para procesar archivos de una carpeta\n",
    "def process_folder(folder_path):\n",
    "    data = []\n",
    "    # Recorrer cada subcarpeta (negative, neutral, positive)\n",
    "    for sentiment in [\"negative\", \"neutral\", \"positive\"]:\n",
    "        sentiment_path = os.path.join(folder_path, sentiment)\n",
    "        # Leer cada archivo de la subcarpeta\n",
    "        for filename in os.listdir(sentiment_path):\n",
    "            if filename.endswith(\".txt\"):\n",
    "                file_path = os.path.join(sentiment_path, filename)\n",
    "                with open(file_path, \"r\", encoding=\"utf-8\") as file:\n",
    "                    text = file.read().strip()  # Leer el contenido del archivo\n",
    "                    data.append([text, sentiment])  # Agregar el contenido y el sentimiento a la lista\n",
    "    return data\n",
    "\n",
    "# Procesar la carpeta de train\n",
    "train_data = process_folder(\"train\")\n",
    "# Procesar la carpeta de test\n",
    "test_data = process_folder(\"test\")\n",
    "\n",
    "# Convertir los datos en DataFrames de pandas\n",
    "train_df = pd.DataFrame(train_data, columns=[\"phrase\", \"sentiment\"])\n",
    "test_df = pd.DataFrame(test_data, columns=[\"phrase\", \"sentiment\"])\n",
    "\n",
    "# Guardar los DataFrames en archivos CSV\n",
    "train_df.to_csv(\"train_dataset.csv\", index=False)\n",
    "test_df.to_csv(\"test_dataset.csv\", index=False)"
   ]
  }
 ],
 "metadata": {
  "kernelspec": {
   "display_name": "Python 3",
   "language": "python",
   "name": "python3"
  },
  "language_info": {
   "codemirror_mode": {
    "name": "ipython",
    "version": 3
   },
   "file_extension": ".py",
   "mimetype": "text/x-python",
   "name": "python",
   "nbconvert_exporter": "python",
   "pygments_lexer": "ipython3",
   "version": "3.12.6"
  }
 },
 "nbformat": 4,
 "nbformat_minor": 2
}
